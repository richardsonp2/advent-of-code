{
 "cells": [
  {
   "cell_type": "code",
   "execution_count": 2,
   "metadata": {},
   "outputs": [],
   "source": [
    "import re "
   ]
  },
  {
   "cell_type": "code",
   "execution_count": 4,
   "metadata": {},
   "outputs": [],
   "source": [
    "jumbled_string = \"\"\"\n",
    "OrderID#87654 extra(Info)->$Amount:$123.45<key=ID:54321> \n",
    "ProductName:\"MegaWidget\" |Status=Pending; * Name_is Jane_Smith? Date=2023-11-04; \n",
    "Age->34[Email:jane.smith@example.com];\n",
    "\n",
    "**ID:98765 random-text Name=Bob_O'Malley Status:InProgress Email:bob.o@example.net \n",
    "Amount$789.01 Product=UltraWidget Date2024-01-15;; \n",
    "Order#12345 Age/45 KeyValStuff{ID:12345};\n",
    "\n",
    "#%ID:11223|Name=Alice-Wonderland email=alice@wonderland.net Product:\"WonderGadget\" \n",
    "Order=54321 Date=2024-12-07 Amount=$654.32 Status=Shipped; Age-->28;\n",
    "\"\"\""
   ]
  },
  {
   "cell_type": "code",
   "execution_count": 6,
   "metadata": {},
   "outputs": [],
   "source": [
    "# Find all numeric IDs\n",
    "\n",
    "list_of_ids = re.findall(r\"ID:\\d{5}\", jumbled_string)"
   ]
  },
  {
   "cell_type": "code",
   "execution_count": 7,
   "metadata": {},
   "outputs": [
    {
     "name": "stdout",
     "output_type": "stream",
     "text": [
      "['ID:54321', 'ID:98765', 'ID:12345', 'ID:11223']\n"
     ]
    }
   ],
   "source": [
    "print(list_of_ids)"
   ]
  },
  {
   "cell_type": "code",
   "execution_count": null,
   "metadata": {},
   "outputs": [],
   "source": [
    "list_of_emails = r\"@\""
   ]
  }
 ],
 "metadata": {
  "kernelspec": {
   "display_name": "venv",
   "language": "python",
   "name": "python3"
  },
  "language_info": {
   "codemirror_mode": {
    "name": "ipython",
    "version": 3
   },
   "file_extension": ".py",
   "mimetype": "text/x-python",
   "name": "python",
   "nbconvert_exporter": "python",
   "pygments_lexer": "ipython3",
   "version": "3.10.12"
  }
 },
 "nbformat": 4,
 "nbformat_minor": 2
}
